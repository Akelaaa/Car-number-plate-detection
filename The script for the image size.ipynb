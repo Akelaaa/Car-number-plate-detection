{
 "cells": [
  {
   "cell_type": "code",
   "execution_count": 3,
   "metadata": {},
   "outputs": [
    {
     "name": "stdout",
     "output_type": "stream",
     "text": [
      "*** This program gets the width and height of all images in the directory and writes them to a separate file ***\n",
      "Where to create a data file?\n",
      "B:\\Studies\\Vologda SU 3\\Programming\\Python\\MainData.txt\n",
      "Where is the analyzed file?\n",
      "B:\\Studies\\Vologda SU 3\\Programming\\Python\\Dataset\\NumBase\n"
     ]
    }
   ],
   "source": [
    "#Подключаем модуль \n",
    "import os #Operating System\n",
    "from PIL import Image #Python Imaging Library\n",
    "\n",
    "#-----------------------------------------------------------------\n",
    "#Блок с функциями\n",
    "\n",
    "def Error(str):\n",
    "    print('ERROR: ', str)\n",
    "    file.close()\n",
    "    raise SystemExit\n",
    "\n",
    "#-----------------------------------------------------------------\n",
    "#определяем переменные и открываем файл\n",
    "\n",
    "#'taggedData.txt'\n",
    "#'B:\\\\Studies\\\\Vologda SU 3\\\\Programming\\\\Python\\\\Dataset\\\\NumBase'\n",
    "\n",
    "print('*** This program gets the width and height of all images in the directory and writes them to a separate file ***')\n",
    "print('Where to create a data file?')\n",
    "outputFileName = input()\n",
    "print('Where is the analyzed file?')\n",
    "directory = input()\n",
    "\n",
    "try:\n",
    "    outputFile = open(outputFileName, 'x') #открыть для записи, если файла не существует\n",
    "except:\n",
    "    Error('Не удалось открыть файл, возможно данное имя уже занято')\n",
    "    \n",
    "#-----------------------------------------------------------------\n",
    "#Получаем list с названиями всех jpg и bmp файлов\n",
    "\n",
    "#Получаем список файлов в переменную files \n",
    "try:\n",
    "    inputFiles = os.listdir(directory) \n",
    "except:\n",
    "    Error('Не удалось получить список файлов в директории')\n",
    "    \n",
    "#Фильтруем список \n",
    "imagesJPG = list(filter(lambda x: x.endswith('.jpg'), inputFiles)) \n",
    "imagesBMP = list(filter(lambda x: x.endswith('.bmp'), inputFiles)) \n",
    "\n",
    "images = []\n",
    "\n",
    "images.extend(imagesJPG)\n",
    "images.extend(imagesBMP)\n",
    "\n",
    "#print(images)\n",
    "\n",
    "#-----------------------------------------------------------------\n",
    "#Открываем наши изображения, получаем ширину и высоту и записываем в новый текстовый файл\n",
    "\n",
    "for x in range(len(images)):\n",
    "    imageName = directory + '\\\\' + images[x]\n",
    "    \n",
    "    try:\n",
    "        im = Image.open(imageName)\n",
    "    except:\n",
    "        Error('Не удалось открыть изображение')\n",
    "    width, height = im.size\n",
    "    \n",
    "    #print(width, height, ' ' , imageName)\n",
    "    \n",
    "    try:\n",
    "        outputFile.write('{\"content\": ' + imageName + ',\"annotation\":[{\"label\":[\"number_plate\"],\"points\":[{\"x\":0.0,\"y\":0.0},{\"x\":' + str(width) + '\"y\": ' + str(height) + '}]}]}' + '\\n')\n",
    "    except:\n",
    "        Error('Не удалось записать данные в файл')\n",
    "    \n",
    "    #формат записи данных\n",
    "    #{\"content\": \"Изображение\",\"annotation\":[{\"label\":[\"number_plate\"],\"points\":[{\"x\":0.0,\"y\":0.0},{\"x\":ширина,\"y\":высота}]}]}\n",
    "    \n",
    "\n",
    "outputFile.close()"
   ]
  },
  {
   "cell_type": "code",
   "execution_count": null,
   "metadata": {},
   "outputs": [],
   "source": []
  }
 ],
 "metadata": {
  "kernelspec": {
   "display_name": "Python 3",
   "language": "python",
   "name": "python3"
  },
  "language_info": {
   "codemirror_mode": {
    "name": "ipython",
    "version": 3
   },
   "file_extension": ".py",
   "mimetype": "text/x-python",
   "name": "python",
   "nbconvert_exporter": "python",
   "pygments_lexer": "ipython3",
   "version": "3.7.0"
  }
 },
 "nbformat": 4,
 "nbformat_minor": 2
}
